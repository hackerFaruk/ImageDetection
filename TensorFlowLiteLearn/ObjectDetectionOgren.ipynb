{
  "cells": [
    {
      "cell_type": "markdown",
      "metadata": {
        "colab_type": "text",
        "id": "view-in-github"
      },
      "source": [
        "<a href=\"https://colab.research.google.com/github/hackerFaruk/ImageDetection/blob/main/ObjectDetectionOgren.ipynb\" target=\"_parent\"><img src=\"https://colab.research.google.com/assets/colab-badge.svg\" alt=\"Open In Colab\"/></a>"
      ]
    },
    {
      "cell_type": "markdown",
      "metadata": {},
      "source": [
        "# Kaynklar "
      ]
    },
    {
      "cell_type": "markdown",
      "metadata": {
        "id": "9mTTUn1voE7G"
      },
      "source": [
        "Tensor Flow Lite Model Maker\n",
        "\n",
        "Basit seviye bir başlangıç ile  özel data sete göre eğitim"
      ]
    },
    {
      "cell_type": "markdown",
      "metadata": {
        "id": "QLy8KbXtob7i"
      },
      "source": [
        "\n",
        "güncel tensorflow lite paketleri indir"
      ]
    },
    {
      "cell_type": "markdown",
      "metadata": {
        "id": "tiWb03_k2Fvw"
      },
      "source": [
        "https://colab.research.google.com/github/khanhlvg/tflite_raspberry_pi/blob/main/object_detection/Train_custom_model_tutorial.ipynb#scrollTo=35BJmtVpAP_n\n",
        "\n",
        "\n",
        "\n",
        "https://colab.research.google.com/github/EdjeElectronics/TensorFlow-Lite-Object-Detection-on-Android-and-Raspberry-Pi/blob/master/Train_TFLite2_Object_Detction_Model.ipynb\n",
        "\n",
        "\n",
        "\n",
        "source\n",
        "\n",
        "\n",
        "https://www.youtube.com/watch?v=-ZyFYniGUsw&t=539s\n",
        "\n",
        "\n",
        "\n",
        "tutorial"
      ]
    },
    {
      "cell_type": "markdown",
      "metadata": {
        "id": "weEtVEoOQNbp"
      },
      "source": [
        "# Hazırlıklar\n"
      ]
    },
    {
      "cell_type": "markdown",
      "metadata": {},
      "source": [
        "!pip install -q tflite-model-maker\n",
        "\n",
        "!pip install -q tflite-support\n",
        "\n",
        "bunları terminale atsan daha iyi \n"
      ]
    },
    {
      "cell_type": "markdown",
      "metadata": {
        "id": "Ouq0hyS7pkIW"
      },
      "source": [
        "gerekli importları yap"
      ]
    },
    {
      "cell_type": "code",
      "execution_count": 1,
      "metadata": {
        "id": "yIVpOwViSH-o"
      },
      "outputs": [
        {
          "ename": "",
          "evalue": "",
          "output_type": "error",
          "traceback": [
            "\u001b[1;31mThe Kernel crashed while executing code in the the current cell or a previous cell. Please review the code in the cell(s) to identify a possible cause of the failure. Click <a href='https://aka.ms/vscodeJupyterKernelCrash'>here</a> for more info. View Jupyter <a href='command:jupyter.viewOutput'>log</a> for further details."
          ]
        }
      ],
      "source": [
        "# import the opencv library \n",
        "import cv2 \n",
        "  \n",
        "  \n",
        "# define a video capture object \n",
        "vid = cv2.VideoCapture(0) \n",
        "  \n",
        "while(True): \n",
        "      \n",
        "    # Capture the video frame \n",
        "    # by frame \n",
        "    ret, frame = vid.read() \n",
        "  \n",
        "    # Display the resulting frame \n",
        "    cv2.imshow('frame', frame) \n",
        "      \n",
        "    # the 'q' button is set as the \n",
        "    # quitting button you may use any \n",
        "    # desired button of your choice \n",
        "    if cv2.waitKey(1) & 0xFF == ord('q'): \n",
        "        break\n",
        "  \n",
        "# After the loop release the cap object \n",
        "vid.release() \n",
        "# Destroy all the windows \n",
        "cv2.destroyAllWindows() \n"
      ]
    },
    {
      "cell_type": "code",
      "execution_count": null,
      "metadata": {
        "id": "WreeqcUBojR_"
      },
      "outputs": [],
      "source": [
        "import numpy as np\n",
        "# numpy ppythonda matematiksel işlmerleri kolaylaştırmak için\n",
        "\n",
        "import os\n",
        "#işletim sistemine yönelik dosya işlemleri için\n",
        "\n",
        "\n",
        "from tflite_model_maker.config import ExportFormat, QuantizationConfig\n",
        "#quantization  float pointleri kısmak için kullalnılır\n"
      ]
    },
    {
      "cell_type": "code",
      "execution_count": null,
      "metadata": {
        "colab": {
          "base_uri": "https://localhost:8080/"
        },
        "id": "JDrjr0wOpYE_",
        "outputId": "f1245548-7b98-457b-8439-76d5f17b687a"
      },
      "outputs": [
        {
          "data": {
            "text/plain": [
              "0.30000000000000004"
            ]
          },
          "execution_count": 1,
          "metadata": {},
          "output_type": "execute_result"
        }
      ],
      "source": [
        "0.1 + 0.2   #quantization yüzünden böyle bişi oldu"
      ]
    },
    {
      "cell_type": "code",
      "execution_count": null,
      "metadata": {
        "id": "eqDAd3PXpSov"
      },
      "outputs": [],
      "source": [
        "from tflite_model_maker import model_spec\n",
        "# model ile alakalı ön ayarları alır  input boyutru işlem gücü gibi\n",
        "\n",
        "from tflite_model_maker import object_detector\n",
        "#hai hazırda ayarlı object detection modülü\n",
        "\n",
        "from tflite_support import metadata\n",
        "# modelle ilgile metedata eklmek için\n",
        "\n",
        "import tensorflow as tf\n",
        "assert tf.__version__.startswith('2')\n",
        "# tensor flow kütüphanesi vew modeli\n",
        "\n",
        "\n",
        "# hata logu için\n",
        "tf.get_logger().setLevel('ERROR')\n",
        "from absl import logging\n",
        "logging.set_verbosity(logging.ERROR)\n",
        "\n",
        "\n"
      ]
    },
    {
      "cell_type": "markdown",
      "metadata": {
        "id": "MMvk9r8eQQj0"
      },
      "source": [
        "# Veri Seti Oluşturma"
      ]
    },
    {
      "cell_type": "markdown",
      "metadata": {
        "id": "DznauRwBucjS"
      },
      "source": [
        "artık data hazırlama zamanı\n",
        "\n",
        "\n",
        "online tool\n",
        "\n",
        "https://www.robots.ox.ac.uk/~vgg/software/via/via_demo.html\n",
        "\n",
        "\n",
        "better offline tool\n",
        "labelimg\n",
        "https://www.dropbox.com/s/tq7zfrcwl44vxan/windows_v1.6.0.zip?dl=1"
      ]
    },
    {
      "cell_type": "markdown",
      "metadata": {
        "id": "jjwVUCIkyDlH"
      },
      "source": [
        "https://goo.gle/31DtXPL\n",
        "\n",
        "android figure data set\n"
      ]
    },
    {
      "cell_type": "code",
      "execution_count": 2,
      "metadata": {
        "colab": {
          "base_uri": "https://localhost:8080/"
        },
        "id": "SziqsP1nx_LJ",
        "outputId": "526dbf31-0597-40d7-d3bf-82d7e75df84c"
      },
      "outputs": [
        {
          "name": "stderr",
          "output_type": "stream",
          "text": [
            "'ls' is not recognized as an internal or external command,\n",
            "operable program or batch file.\n"
          ]
        }
      ],
      "source": [
        "!ls\n"
      ]
    },
    {
      "cell_type": "code",
      "execution_count": null,
      "metadata": {
        "id": "ddT0aXRKzId8"
      },
      "outputs": [],
      "source": [
        "!unzip -q android_figurine.zip"
      ]
    },
    {
      "cell_type": "code",
      "execution_count": null,
      "metadata": {
        "id": "oEiBwdquzmmn"
      },
      "outputs": [],
      "source": [
        "train_data = object_detector.DataLoader.from_pascal_voc(\n",
        "    'android_figurine/train',\n",
        "    'android_figurine/train',\n",
        "    ['android', 'pig_android']\n",
        ")\n",
        "\n",
        "val_data = object_detector.DataLoader.from_pascal_voc(\n",
        "    'android_figurine/validate',\n",
        "    'android_figurine/validate',\n",
        "    ['android', 'pig_android']\n",
        ")\n",
        "\n",
        "# traind data eğitim validate test için seçilen resimler"
      ]
    },
    {
      "cell_type": "markdown",
      "metadata": {
        "id": "jqLRC76Xz8gy"
      },
      "source": [
        "model secimi, farklı modeller secip kıyaslama yapılabilir bu hızlı basit model"
      ]
    },
    {
      "cell_type": "code",
      "execution_count": null,
      "metadata": {
        "colab": {
          "base_uri": "https://localhost:8080/",
          "height": 175
        },
        "id": "8eEoFRTozq3_",
        "outputId": "3175f109-76d2-4284-d5f7-d5ccbacc10aa"
      },
      "outputs": [
        {
          "ename": "NameError",
          "evalue": "name 'model_spec' is not defined",
          "output_type": "error",
          "traceback": [
            "\u001b[0;31m---------------------------------------------------------------------------\u001b[0m",
            "\u001b[0;31mNameError\u001b[0m                                 Traceback (most recent call last)",
            "\u001b[0;32m<ipython-input-9-b8267c826e89>\u001b[0m in \u001b[0;36m<cell line: 1>\u001b[0;34m()\u001b[0m\n\u001b[0;32m----> 1\u001b[0;31m \u001b[0mspec\u001b[0m \u001b[0;34m=\u001b[0m \u001b[0mmodel_spec\u001b[0m\u001b[0;34m.\u001b[0m\u001b[0mget\u001b[0m\u001b[0;34m(\u001b[0m\u001b[0;34m'efficientdet_lite0'\u001b[0m\u001b[0;34m)\u001b[0m\u001b[0;34m\u001b[0m\u001b[0;34m\u001b[0m\u001b[0m\n\u001b[0m",
            "\u001b[0;31mNameError\u001b[0m: name 'model_spec' is not defined"
          ]
        }
      ],
      "source": [
        "spec = model_spec.get('efficientdet_lite0')"
      ]
    },
    {
      "cell_type": "markdown",
      "metadata": {
        "id": "mCo6bneNQbIc"
      },
      "source": [
        "# Eğitim Zamanı"
      ]
    },
    {
      "cell_type": "markdown",
      "metadata": {
        "id": "faJvNrEQ0Jmg"
      },
      "source": [
        "burda epoch önceden belirli özellikler var\n",
        "\n",
        "artık eğitim yapılıyor\n",
        "\n",
        "\n"
      ]
    },
    {
      "cell_type": "code",
      "execution_count": null,
      "metadata": {
        "id": "XZPr6DkW0I8F"
      },
      "outputs": [],
      "source": [
        "model = object_detector.create(train_data, model_spec=spec, batch_size=4, train_whole_model=True, epochs=20, validation_data=val_data)"
      ]
    }
  ],
  "metadata": {
    "colab": {
      "authorship_tag": "ABX9TyOIpWo5PxVZZVS1j34VopUN",
      "include_colab_link": true,
      "provenance": [],
      "toc_visible": true
    },
    "kernelspec": {
      "display_name": "Python 3",
      "name": "python3"
    },
    "language_info": {
      "codemirror_mode": {
        "name": "ipython",
        "version": 3
      },
      "file_extension": ".py",
      "mimetype": "text/x-python",
      "name": "python",
      "nbconvert_exporter": "python",
      "pygments_lexer": "ipython3",
      "version": "3.11.7"
    }
  },
  "nbformat": 4,
  "nbformat_minor": 0
}
